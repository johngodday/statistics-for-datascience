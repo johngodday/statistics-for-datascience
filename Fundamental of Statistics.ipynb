{
 "cells": [
  {
   "cell_type": "markdown",
   "metadata": {},
   "source": [
    "# INTRODUCTION "
   ]
  },
  {
   "cell_type": "markdown",
   "metadata": {},
   "source": [
    "<center><b>This notebook covers the hands-on-exercise on our class conducted to introduce Statistics for Data Science.</b></center> \n",
    "\n",
    "We all know That data science is an inter-disciplinary field that combines the knowledge of several field solely to make sense out of data. One of the field is Statistics and this notebook serves as a guide to help ignite an understanding on The two branches of statistics."
   ]
  },
  {
   "cell_type": "markdown",
   "metadata": {},
   "source": [
    "# DEFINITION"
   ]
  },
  {
   "cell_type": "markdown",
   "metadata": {},
   "source": [
    "- What is Statistics ?\n",
    "- What are The two main Branches of Statistics?"
   ]
  },
  {
   "cell_type": "markdown",
   "metadata": {},
   "source": [
    "Statistics is defined to be a science and often times called a branch of mathematics thats deals with:\n",
    "    \n",
    " - collection of data\n",
    " - organization of the data collected\n",
    " - Analysing the organized data\n",
    " - Interpreting the analysis done on the data.\n",
    "\n",
    "so basically we have 4 scientific procedures stated above, we can acronymize these procedures as follows <b>\"COAI\"</b> for proper understanding."
   ]
  },
  {
   "cell_type": "markdown",
   "metadata": {},
   "source": [
    "# BRANCHES OF STATISTICS"
   ]
  },
  {
   "cell_type": "markdown",
   "metadata": {},
   "source": [
    "The field of Statistics is divided into two (2) main branches namely:\n",
    "    - Descriptive Statistics.\n",
    "    - Inferential Statistics.\n",
    "\n",
    "- <b>Descriptive Statistics:</b>\n",
    "This is a branch of statistics thats deals with the collection of data from an experiment or survey in other to take a qualitative description or summary of how the data collected looks like. The aim of descriptive statistics is to summarize a sampled data from a given population. it goes to tell us that it is concerned about the properties of an observed data.\n",
    "\n",
    "\n",
    "- <b> Inferential Statistics:</b>\n",
    "This is a branch of statistics thats deals with analysing a collected or sampled data in other to help make conclusion, decision, or predict a defined population."
   ]
  },
  {
   "cell_type": "markdown",
   "metadata": {},
   "source": [
    "# FUNDAMENTAL OF DESCRIPTIVE STATISTICS"
   ]
  },
  {
   "cell_type": "markdown",
   "metadata": {},
   "source": [
    "Descriptive statistic is divided into two (2) namely:\n",
    "\n",
    "    - Measure of central tendency\n",
    "    - Measure of variability\n",
    "    - Measure of Position\n",
    "    - Measure of Frequency\n",
    "\n",
    "- Method of presenting results from descriptive statistics\n",
    "        \n",
    "        -Presentation by charts\n",
    "        -Presentation using statistic (qualitative or quantitative value)"
   ]
  },
  {
   "cell_type": "markdown",
   "metadata": {},
   "source": [
    "### Measure of Frequency"
   ]
  },
  {
   "cell_type": "markdown",
   "metadata": {},
   "source": [
    "Measure of frequency is used to describe Qualitative variables e.g  count of a features with two or more category, under it we have:\n",
    "   \n",
    "    - Count\n",
    "    - percent"
   ]
  },
  {
   "cell_type": "code",
   "execution_count": 1,
   "metadata": {},
   "outputs": [],
   "source": [
    "import pandas as pd\n",
    "import numpy as np\n",
    "import seaborn as sns\n",
    "import matplotlib.pyplot as plt\n",
    "import warnings\n",
    "warnings.filterwarnings('ignore')\n",
    "from matplotlib import style\n",
    "style.use('ggplot')\n",
    "\n",
    "pd.set_option('max_columns', None)"
   ]
  },
  {
   "cell_type": "code",
   "execution_count": 2,
   "metadata": {},
   "outputs": [
    {
     "data": {
      "text/html": [
       "<div>\n",
       "<style scoped>\n",
       "    .dataframe tbody tr th:only-of-type {\n",
       "        vertical-align: middle;\n",
       "    }\n",
       "\n",
       "    .dataframe tbody tr th {\n",
       "        vertical-align: top;\n",
       "    }\n",
       "\n",
       "    .dataframe thead th {\n",
       "        text-align: right;\n",
       "    }\n",
       "</style>\n",
       "<table border=\"1\" class=\"dataframe\">\n",
       "  <thead>\n",
       "    <tr style=\"text-align: right;\">\n",
       "      <th></th>\n",
       "      <th>Item_ID</th>\n",
       "      <th>Store_ID</th>\n",
       "      <th>Item_Store_ID</th>\n",
       "      <th>Item_Weight</th>\n",
       "      <th>Item_Sugar_Content</th>\n",
       "      <th>Item_Visibility</th>\n",
       "      <th>Item_Type</th>\n",
       "      <th>Item_Price</th>\n",
       "      <th>Store_Start_Year</th>\n",
       "      <th>Store_Size</th>\n",
       "      <th>Store_Location_Type</th>\n",
       "      <th>Store_Type</th>\n",
       "      <th>Item_Store_Returns</th>\n",
       "    </tr>\n",
       "  </thead>\n",
       "  <tbody>\n",
       "    <tr>\n",
       "      <th>0</th>\n",
       "      <td>DRA12</td>\n",
       "      <td>BABATUNJI010</td>\n",
       "      <td>DRA12_BABATUNJI010</td>\n",
       "      <td>11.6</td>\n",
       "      <td>Low Sugar</td>\n",
       "      <td>0.068535</td>\n",
       "      <td>Soft Drinks</td>\n",
       "      <td>357.54</td>\n",
       "      <td>2005</td>\n",
       "      <td>NaN</td>\n",
       "      <td>Cluster 3</td>\n",
       "      <td>Grocery Store</td>\n",
       "      <td>709.08</td>\n",
       "    </tr>\n",
       "    <tr>\n",
       "      <th>1</th>\n",
       "      <td>DRA12</td>\n",
       "      <td>BABATUNJI013</td>\n",
       "      <td>DRA12_BABATUNJI013</td>\n",
       "      <td>11.6</td>\n",
       "      <td>Low Sugar</td>\n",
       "      <td>0.040912</td>\n",
       "      <td>Soft Drinks</td>\n",
       "      <td>355.79</td>\n",
       "      <td>1994</td>\n",
       "      <td>High</td>\n",
       "      <td>Cluster 3</td>\n",
       "      <td>Supermarket Type1</td>\n",
       "      <td>6381.69</td>\n",
       "    </tr>\n",
       "    <tr>\n",
       "      <th>2</th>\n",
       "      <td>DRA12</td>\n",
       "      <td>BABATUNJI017</td>\n",
       "      <td>DRA12_BABATUNJI017</td>\n",
       "      <td>11.6</td>\n",
       "      <td>Low Sugar</td>\n",
       "      <td>0.041178</td>\n",
       "      <td>Soft Drinks</td>\n",
       "      <td>350.79</td>\n",
       "      <td>2014</td>\n",
       "      <td>NaN</td>\n",
       "      <td>Cluster 2</td>\n",
       "      <td>Supermarket Type1</td>\n",
       "      <td>6381.69</td>\n",
       "    </tr>\n",
       "  </tbody>\n",
       "</table>\n",
       "</div>"
      ],
      "text/plain": [
       "  Item_ID      Store_ID       Item_Store_ID  Item_Weight Item_Sugar_Content  \\\n",
       "0   DRA12  BABATUNJI010  DRA12_BABATUNJI010         11.6          Low Sugar   \n",
       "1   DRA12  BABATUNJI013  DRA12_BABATUNJI013         11.6          Low Sugar   \n",
       "2   DRA12  BABATUNJI017  DRA12_BABATUNJI017         11.6          Low Sugar   \n",
       "\n",
       "   Item_Visibility    Item_Type  Item_Price  Store_Start_Year Store_Size  \\\n",
       "0         0.068535  Soft Drinks      357.54              2005        NaN   \n",
       "1         0.040912  Soft Drinks      355.79              1994       High   \n",
       "2         0.041178  Soft Drinks      350.79              2014        NaN   \n",
       "\n",
       "  Store_Location_Type         Store_Type  Item_Store_Returns  \n",
       "0           Cluster 3      Grocery Store              709.08  \n",
       "1           Cluster 3  Supermarket Type1             6381.69  \n",
       "2           Cluster 2  Supermarket Type1             6381.69  "
      ]
     },
     "execution_count": 2,
     "metadata": {},
     "output_type": "execute_result"
    }
   ],
   "source": [
    "train = pd.read_csv('train.csv')\n",
    "train.head(3)"
   ]
  },
  {
   "cell_type": "code",
   "execution_count": 3,
   "metadata": {},
   "outputs": [
    {
     "data": {
      "text/plain": [
       "10"
      ]
     },
     "execution_count": 3,
     "metadata": {},
     "output_type": "execute_result"
    }
   ],
   "source": [
    "train['Store_ID'].nunique()"
   ]
  },
  {
   "cell_type": "code",
   "execution_count": 4,
   "metadata": {},
   "outputs": [
    {
     "data": {
      "text/plain": [
       "BABATUNJI049    620\n",
       "BABATUNJI013    594\n",
       "BABATUNJI017    583\n",
       "BABATUNJI035    515\n",
       "BABATUNJI046    509\n",
       "BABATUNJI018    500\n",
       "BABATUNJI045    483\n",
       "BABATUNJI027    462\n",
       "BABATUNJI010    384\n",
       "BABATUNJI019    340\n",
       "Name: Store_ID, dtype: int64"
      ]
     },
     "execution_count": 4,
     "metadata": {},
     "output_type": "execute_result"
    }
   ],
   "source": [
    "train['Store_ID'].value_counts()"
   ]
  },
  {
   "cell_type": "code",
   "execution_count": 5,
   "metadata": {},
   "outputs": [
    {
     "data": {
      "text/plain": [
       "Snack Foods              758\n",
       "Fruits and Vegetables    747\n",
       "Household                567\n",
       "Frozen Foods             457\n",
       "Canned                   376\n",
       "Dairy                    350\n",
       "Baking Goods             344\n",
       "Health and Hygiene       307\n",
       "Meat                     264\n",
       "Soft Drinks              261\n",
       "Breads                   137\n",
       "Hard Drinks              134\n",
       "Others                   100\n",
       "Starchy Foods             81\n",
       "Breakfast                 66\n",
       "Seafood                   41\n",
       "Name: Item_Type, dtype: int64"
      ]
     },
     "execution_count": 5,
     "metadata": {},
     "output_type": "execute_result"
    }
   ],
   "source": [
    "train['Item_Type'].value_counts()"
   ]
  },
  {
   "cell_type": "code",
   "execution_count": 6,
   "metadata": {},
   "outputs": [
    {
     "data": {
      "text/plain": [
       "Store_ID      Item_Type            \n",
       "BABATUNJI010  Baking Goods              34\n",
       "              Breads                    11\n",
       "              Breakfast                  4\n",
       "              Canned                    27\n",
       "              Dairy                     24\n",
       "              Frozen Foods              35\n",
       "              Fruits and Vegetables     56\n",
       "              Hard Drinks               11\n",
       "              Health and Hygiene        28\n",
       "              Household                 49\n",
       "              Meat                      22\n",
       "              Others                     7\n",
       "              Seafood                    3\n",
       "              Snack Foods               48\n",
       "              Soft Drinks               19\n",
       "              Starchy Foods              6\n",
       "BABATUNJI013  Baking Goods              49\n",
       "              Breads                    19\n",
       "              Breakfast                  8\n",
       "              Canned                    44\n",
       "              Dairy                     44\n",
       "              Frozen Foods              61\n",
       "              Fruits and Vegetables     84\n",
       "              Hard Drinks               14\n",
       "              Health and Hygiene        46\n",
       "              Household                 61\n",
       "              Meat                      27\n",
       "              Others                    13\n",
       "              Seafood                    3\n",
       "              Snack Foods               80\n",
       "              Soft Drinks               32\n",
       "              Starchy Foods              9\n",
       "BABATUNJI017  Baking Goods              36\n",
       "              Breads                    12\n",
       "              Breakfast                  9\n",
       "              Canned                    40\n",
       "              Dairy                     47\n",
       "              Frozen Foods              61\n",
       "              Fruits and Vegetables     84\n",
       "              Hard Drinks               16\n",
       "              Health and Hygiene        38\n",
       "              Household                 68\n",
       "              Meat                      26\n",
       "              Others                     9\n",
       "              Seafood                    4\n",
       "              Snack Foods               87\n",
       "              Soft Drinks               35\n",
       "              Starchy Foods             11\n",
       "BABATUNJI018  Baking Goods              34\n",
       "              Breads                    14\n",
       "              Breakfast                  5\n",
       "              Canned                    37\n",
       "              Dairy                     31\n",
       "              Frozen Foods              42\n",
       "              Fruits and Vegetables     76\n",
       "              Hard Drinks               17\n",
       "              Health and Hygiene        27\n",
       "              Household                 51\n",
       "              Meat                      31\n",
       "              Others                    12\n",
       "              Seafood                    5\n",
       "              Snack Foods               82\n",
       "              Soft Drinks               29\n",
       "              Starchy Foods              7\n",
       "BABATUNJI019  Baking Goods              21\n",
       "              Breads                    10\n",
       "              Breakfast                  6\n",
       "              Canned                    24\n",
       "              Dairy                     29\n",
       "              Frozen Foods              27\n",
       "              Fruits and Vegetables     52\n",
       "              Hard Drinks                4\n",
       "              Health and Hygiene        20\n",
       "              Household                 39\n",
       "              Meat                      20\n",
       "              Others                     9\n",
       "              Seafood                    5\n",
       "              Snack Foods               54\n",
       "              Soft Drinks               17\n",
       "              Starchy Foods              3\n",
       "BABATUNJI027  Baking Goods              29\n",
       "              Breads                    14\n",
       "              Breakfast                  7\n",
       "              Canned                    36\n",
       "              Dairy                     34\n",
       "              Frozen Foods              41\n",
       "              Fruits and Vegetables     73\n",
       "              Hard Drinks               14\n",
       "              Health and Hygiene        23\n",
       "              Household                 54\n",
       "              Meat                      30\n",
       "              Others                     4\n",
       "              Seafood                    4\n",
       "              Snack Foods               70\n",
       "              Soft Drinks               21\n",
       "              Starchy Foods              8\n",
       "BABATUNJI035  Baking Goods              29\n",
       "              Breads                    15\n",
       "              Breakfast                  7\n",
       "              Canned                    42\n",
       "              Dairy                     34\n",
       "              Frozen Foods              48\n",
       "              Fruits and Vegetables     73\n",
       "              Hard Drinks               14\n",
       "              Health and Hygiene        26\n",
       "              Household                 67\n",
       "              Meat                      25\n",
       "              Others                    10\n",
       "              Seafood                    4\n",
       "              Snack Foods               82\n",
       "              Soft Drinks               28\n",
       "              Starchy Foods             11\n",
       "BABATUNJI045  Baking Goods              32\n",
       "              Breads                    14\n",
       "              Breakfast                  6\n",
       "              Canned                    40\n",
       "              Dairy                     35\n",
       "              Frozen Foods              41\n",
       "              Fruits and Vegetables     80\n",
       "              Hard Drinks               14\n",
       "              Health and Hygiene        26\n",
       "              Household                 56\n",
       "              Meat                      23\n",
       "              Others                    10\n",
       "              Seafood                    5\n",
       "              Snack Foods               71\n",
       "              Soft Drinks               23\n",
       "              Starchy Foods              7\n",
       "BABATUNJI046  Baking Goods              37\n",
       "              Breads                    12\n",
       "              Breakfast                  7\n",
       "              Canned                    39\n",
       "              Dairy                     32\n",
       "              Frozen Foods              51\n",
       "              Fruits and Vegetables     68\n",
       "              Hard Drinks               12\n",
       "              Health and Hygiene        37\n",
       "              Household                 58\n",
       "              Meat                      25\n",
       "              Others                    14\n",
       "              Seafood                    4\n",
       "              Snack Foods               79\n",
       "              Soft Drinks               28\n",
       "              Starchy Foods              6\n",
       "BABATUNJI049  Baking Goods              43\n",
       "              Breads                    16\n",
       "              Breakfast                  7\n",
       "              Canned                    47\n",
       "              Dairy                     40\n",
       "              Frozen Foods              50\n",
       "              Fruits and Vegetables    101\n",
       "              Hard Drinks               18\n",
       "              Health and Hygiene        36\n",
       "              Household                 64\n",
       "              Meat                      35\n",
       "              Others                    12\n",
       "              Seafood                    4\n",
       "              Snack Foods              105\n",
       "              Soft Drinks               29\n",
       "              Starchy Foods             13\n",
       "Name: Item_Type, dtype: int64"
      ]
     },
     "execution_count": 6,
     "metadata": {},
     "output_type": "execute_result"
    }
   ],
   "source": [
    "pd.set_option('max_rows', None)\n",
    "train.groupby(['Store_ID', 'Item_Type'])['Item_Type'].count()"
   ]
  },
  {
   "cell_type": "markdown",
   "metadata": {},
   "source": [
    "Store ID \"BABATUNJI049\" has the highest sampled item from the survey while Store Id 'BABATUNJI019' appears to be the lowest"
   ]
  },
  {
   "cell_type": "code",
   "execution_count": 7,
   "metadata": {},
   "outputs": [
    {
     "data": {
      "text/plain": [
       "Low Sugar          0.609018\n",
       "Normal Sugar       0.355311\n",
       "Ultra Low Sugar    0.035671\n",
       "Name: Item_Sugar_Content, dtype: float64"
      ]
     },
     "execution_count": 7,
     "metadata": {},
     "output_type": "execute_result"
    }
   ],
   "source": [
    "train['Item_Sugar_Content'].value_counts(normalize = True) "
   ]
  },
  {
   "cell_type": "markdown",
   "metadata": {},
   "source": [
    "we can see from the above result that 60% of the item sampled from the ten stores has a low sugar content, 36% of the content has a normal sugar content, where the remaining 4% has ultra low sugar content"
   ]
  },
  {
   "cell_type": "code",
   "execution_count": 8,
   "metadata": {},
   "outputs": [
    {
     "data": {
      "image/png": "[encoded data removed]",
      "text/plain": [
       "<Figure size 1080x288 with 2 Axes>"
      ]
     },
     "metadata": {},
     "output_type": "display_data"
    }
   ],
   "source": [
    "fig, (ax1, ax2) = plt.subplots(nrows = 1, ncols = 2, figsize = (15,4))\n",
    "train['Store_ID'].value_counts().plot(kind = 'bar', color = '#4563ac')\n",
    "sns.countplot('Item_Sugar_Content', data = train, ax = ax1);"
   ]
  },
  {
   "cell_type": "markdown",
   "metadata": {},
   "source": [
    "### Measure of Central Tendency"
   ]
  },
  {
   "cell_type": "markdown",
   "metadata": {},
   "source": [
    "They are used to explain the characteristics of a distribution.\n",
    "\n",
    "Measure of central tendency is used to describe both Qualitative and Quatitative variables e.g  mean of student score in an examination, under it we have:\n",
    "    \n",
    "    - Mean       - Mid-Range\n",
    "    - Median     - Geometric Mean\n",
    "    - Mode       - Harmonic Mean"
   ]
  },
  {
   "cell_type": "code",
   "execution_count": 9,
   "metadata": {},
   "outputs": [
    {
     "name": "stdout",
     "output_type": "stream",
     "text": [
      "The mean value is = 6104\n",
      "The Median Value is = 5375\n",
      "The modal value is = 3076\n"
     ]
    }
   ],
   "source": [
    "import statistics\n",
    "\n",
    "mean = train['Item_Store_Returns'].mean()\n",
    "median = train['Item_Store_Returns'].median()\n",
    "mode = train['Item_Store_Returns'].mode()[0]\n",
    "#harmonic_mean = statistics.harmonic_mean(train['Item_Store_Returns'])\n",
    "\n",
    "print(\"The mean value is = {:.0f}\\nThe Median Value is = {:.0f}\\nThe modal value is = {:.0f}\".format(mean, median, mode))"
   ]
  },
  {
   "cell_type": "code",
   "execution_count": 11,
   "metadata": {},
   "outputs": [
    {
     "data": {
      "image/png": "[encoded data removed]",
      "text/plain": [
       "<Figure size 720x360 with 2 Axes>"
      ]
     },
     "metadata": {},
     "output_type": "display_data"
    }
   ],
   "source": [
    "f, (ax_box, ax_hist) = plt.subplots(2, sharex=True, gridspec_kw= {\"height_ratios\": (0.2, 1)},figsize = (10,5))\n",
    "\n",
    "sns.boxplot(train[\"Item_Store_Returns\"], ax=ax_box)\n",
    "ax_box.axvline(mean, color='r', linestyle='--')\n",
    "ax_box.axvline(median, color='g', linestyle='-')\n",
    "ax_box.axvline(mode, color='b', linestyle='-')\n",
    "\n",
    "sns.distplot(train[\"Item_Store_Returns\"], ax=ax_hist)\n",
    "ax_hist.axvline(mean, color='r', linestyle='--')\n",
    "ax_hist.axvline(median, color='g', linestyle='-')\n",
    "ax_hist.axvline(mode, color='b', linestyle='-')\n",
    "\n",
    "plt.legend({'Mean':mean,'Median':median,'Mode':mode})\n",
    "\n",
    "ax_box.set(xlabel='')\n",
    "plt.show()"
   ]
  },
  {
   "cell_type": "markdown",
   "metadata": {},
   "source": [
    "From the above distribution plot we can see the lines shown on the graphs:\n",
    "    \n",
    "     - The blue line shows the position of the modal value\n",
    "     - The green line shows the actual position of the median value\n",
    "     - The dotted red line shows the position of the mean value"
   ]
  },
  {
   "cell_type": "markdown",
   "metadata": {},
   "source": [
    "### Measure of Variability"
   ]
  },
  {
   "cell_type": "markdown",
   "metadata": {},
   "source": [
    "This is use when you want to know how spread out your data is from the mean, under it we have :\n",
    "   \n",
    "    - Variance\n",
    "    - Standard Devaiation\n",
    "    - Range"
   ]
  },
  {
   "cell_type": "code",
   "execution_count": 12,
   "metadata": {},
   "outputs": [
    {
     "name": "stdout",
     "output_type": "stream",
     "text": [
      "The Variance value is = 19778778\n",
      "The Standard Deviation Value is = 4447\n",
      "The Range value is = 32634\n"
     ]
    }
   ],
   "source": [
    "variance = train['Item_Store_Returns'].var()\n",
    "Std_dev = train['Item_Store_Returns'].std()\n",
    "Rng = train['Item_Store_Returns'].max() - train['Item_Store_Returns'].min()\n",
    "\n",
    "print(\"The Variance value is = {:.0f}\\nThe Standard Deviation Value is = {:.0f}\\nThe Range value is = {:.0f}\".format(variance,\n",
    "                                                                                                                     Std_dev,Rng))"
   ]
  },
  {
   "cell_type": "markdown",
   "metadata": {},
   "source": [
    "The variance value is way far from the mean value, and this could be suggesting presence of outliers. It goes to tell us that further investigation can be carried out on the distribution of the target variable."
   ]
  },
  {
   "cell_type": "markdown",
   "metadata": {},
   "source": [
    "### Measure of Shape"
   ]
  },
  {
   "cell_type": "markdown",
   "metadata": {},
   "source": [
    "     - Skewness\n",
    "     - Kurtosis\n",
    "- skewness tells you the amount and direction of skew (departure from horizontal symmetry)\n",
    "-  kurtosis tells you how tall and sharp the central peak is, relative to a standard bell curve. (In simple terms, one can say it is a measure of how heavy tail is compared to a normal distribution.)"
   ]
  },
  {
   "cell_type": "code",
   "execution_count": 13,
   "metadata": {},
   "outputs": [
    {
     "name": "stdout",
     "output_type": "stream",
     "text": [
      "0.06251531645985602\n"
     ]
    }
   ],
   "source": [
    "from scipy.stats import kurtosis\n",
    "item_weight_skew = train['Item_Weight'].skew()\n",
    "#item_weight_kurt = kurtosis(train['Item_Weight'])\n",
    "print(item_weight_skew)"
   ]
  },
  {
   "cell_type": "code",
   "execution_count": 14,
   "metadata": {},
   "outputs": [
    {
     "data": {
      "image/png": "[encoded data removed]",
      "text/plain": [
       "<Figure size 432x288 with 1 Axes>"
      ]
     },
     "metadata": {},
     "output_type": "display_data"
    }
   ],
   "source": [
    "sns.distplot(train['Item_Weight'], hist = False);"
   ]
  },
  {
   "cell_type": "code",
   "execution_count": 15,
   "metadata": {},
   "outputs": [
    {
     "data": {
      "image/png": "[encoded data removed]",
      "text/plain": [
       "<Figure size 432x288 with 1 Axes>"
      ]
     },
     "metadata": {},
     "output_type": "display_data"
    }
   ],
   "source": [
    "sns.distplot(train['Item_Store_Returns'], hist = False);"
   ]
  },
  {
   "cell_type": "markdown",
   "metadata": {},
   "source": [
    "The above shape of the distributed shows that it is skewed and need transformations to keep it normal"
   ]
  },
  {
   "cell_type": "code",
   "execution_count": 16,
   "metadata": {},
   "outputs": [
    {
     "data": {
      "text/plain": [
       "7.034518290910582e-43"
      ]
     },
     "execution_count": 16,
     "metadata": {},
     "output_type": "execute_result"
    }
   ],
   "source": [
    "import scipy.stats as stats\n",
    "\n",
    "normal_statistics, pvalue1 = stats.shapiro(train['Item_Store_Returns'])\n",
    "pvalue1"
   ]
  },
  {
   "cell_type": "markdown",
   "metadata": {},
   "source": [
    "### Measure of Position"
   ]
  },
  {
   "cell_type": "markdown",
   "metadata": {},
   "source": [
    "Percentiles and Quartiles are very useful when we need to identify the outlier in our data. They also help us understand the basic distribution of the data.\n",
    "\n",
    "https://statinfer.com/104-3-4-percentiles-quartiles-in-python/"
   ]
  },
  {
   "cell_type": "code",
   "execution_count": null,
   "metadata": {},
   "outputs": [],
   "source": []
  },
  {
   "cell_type": "code",
   "execution_count": null,
   "metadata": {},
   "outputs": [],
   "source": []
  }
 ],
 "metadata": {
  "kernelspec": {
   "display_name": "Python 3",
   "language": "python",
   "name": "python3"
  },
  "language_info": {
   "codemirror_mode": {
    "name": "ipython",
    "version": 3
   },
   "file_extension": ".py",
   "mimetype": "text/x-python",
   "name": "python",
   "nbconvert_exporter": "python",
   "pygments_lexer": "ipython3",
   "version": "3.7.1"
  }
 },
 "nbformat": 4,
 "nbformat_minor": 4
}
