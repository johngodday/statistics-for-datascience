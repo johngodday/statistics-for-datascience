{
 "cells": [
  {
   "cell_type": "markdown",
   "metadata": {},
   "source": [
    "# HYPOTHESIS TESTING"
   ]
  },
  {
   "cell_type": "markdown",
   "metadata": {},
   "source": [
    "- <b>What is hypothesis?</b>\n",
    "\n",
    "A hypothesis is an educated guess about something in the world around you. It should be testable, either by experiment or observation. This guess can be annything as long as we can put it to test.\n",
    "\n",
    "- <b>what is hypothesis testing?</b>\n",
    "\n",
    "It is a statistical method that is used in making statistical decisions using experimental data.  Hypothesis Testing is basically an assumption that we make about the population parameter. A hypothesis test evaluates two mutually exclusive statements about a population to determine which statement is best supported by the sample data."
   ]
  },
  {
   "cell_type": "markdown",
   "metadata": {},
   "source": [
    "# KEY TERMS AND CONCEPT"
   ]
  },
  {
   "cell_type": "markdown",
   "metadata": {},
   "source": [
    "- <u><b>Null hypothesis:</b></u> Null hypothesis is a statistical hypothesis that assumes that the observation is due to a chance factor.  Null hypothesis is denoted by; H0: μ1 = μ2, which shows that there is no difference between the two population means.\n",
    "\n",
    "\n",
    "- <u><b>Alternative hypothesis:</b></u> Contrary to the null hypothesis, the alternative hypothesis shows that observations are the result of a real effect.\n",
    "\n",
    "\n",
    "- <u><b>Level of significance:</b></u> Refers to the degree of significance in which we accept or reject the null-hypothesis.  100% accuracy is not possible for accepting or rejecting a hypothesis, so we therefore select a level of significance that is usually 5%.\n",
    "\n",
    "\n",
    "- <u><b>Type I error:</b></u> When we reject the null hypothesis, although that hypothesis was true.  Type I error is denoted by alpha.  In hypothesis testing, the normal curve that shows the critical region is called the alpha region.\n",
    "\n",
    "\n",
    "- <u><b>Type II errors:</b></u> When we accept the null hypothesis but it is false.  Type II errors are denoted by beta.  In Hypothesis testing, the normal curve that shows the acceptance region is called the beta region.\n",
    "\n",
    "\n",
    "- <u><b>Power of a test:</b></u> Usually known as the probability of correctly accepting the null hypothesis.  1-beta is called power of the analysis.\n",
    "\n",
    "\n",
    "- <u><b>One-tailed test:</b></u> When the given statistical hypothesis is one value like H0: μ1 = μ2, it is called the one-tailed test.\n",
    "\n",
    "\n",
    "- <u><b>Two-tailed test:</b></u> When the given statistics hypothesis assumes a less than or greater than value, it is called the two-tailed test.\n",
    "\n",
    "\n",
    "- <u><b> P-Value</b></u> In Statistics, P-value is the probability of obtaining results as extreme as the observed result of a statistical hypothesis test assuming that the null hypothesis is correct. It more of a calculated probability to determine whether there is evidence to reject the null hypothesis"
   ]
  },
  {
   "cell_type": "markdown",
   "metadata": {},
   "source": [
    "# STEPS TO CARRY OUT AN HYPOTHESIS TESTING"
   ]
  },
  {
   "cell_type": "markdown",
   "metadata": {},
   "source": [
    "- Figure out your null hypothesis,\n",
    "- State your null hypothesis,\n",
    "- Choose what kind of test you need to perform,\n",
    "- Either support or reject the null hypothesis."
   ]
  },
  {
   "cell_type": "markdown",
   "metadata": {},
   "source": [
    "# CATEGORIES OF HYPOTHESIS TEST"
   ]
  },
  {
   "cell_type": "markdown",
   "metadata": {},
   "source": [
    "    - Parametric Test\n",
    "    - Non-Parametric Test\n",
    "\n",
    "- <u>Parametric Test</u>\n",
    "\n",
    "    parametric test are test that make assumptions about the parameters of the population distribution from which the sample is     drawn. <b>This is often the assumption that the population data are normally distributed.</b>\n",
    "    \n",
    "    \n",
    "\n",
    "- <u>Non-Parametric Test</u>\n",
    "\n",
    "    Non-parametric tests are “distribution-free” and, as such, can be used for non-Normal variables. Most times they are turn to when assumption of normality is violated."
   ]
  },
  {
   "cell_type": "markdown",
   "metadata": {},
   "source": [
    "# TYPES OF STATISTICAL HYPOTHESIS TEST"
   ]
  },
  {
   "cell_type": "markdown",
   "metadata": {},
   "source": [
    "- Normality Test\n",
    "\n",
    "        - Kolmogorov-Smirnov\n",
    "        - Shapiro Wilk\n",
    "        - Normal Test\n",
    "        - e.t.c\n",
    "        \n",
    "- Correlation Tests\n",
    "        \n",
    "        -Pearson’s Correlation Coefficient\n",
    "        - Spearman’s Rank Correlation\n",
    "        - e.t.c\n",
    "\n",
    "- Parametric Statistical Hypothesis Tests\n",
    "   \n",
    "       - Student’s t-test\n",
    "       - Paired Student’s t-test\n",
    "       - Analysis of Variance Test (ANOVA)\n",
    "       - e.t.c\n",
    "  \n",
    "- Nonparametric Statistical Hypothesis Tests\n",
    "\n",
    "      - Mann-Whitney U Test\n",
    "      - Wilcoxon Signed-Rank Test\n",
    "      - Kruskal-Wallis H Test\n",
    "      - Friedman Test\n",
    "      - e.t.c"
   ]
  },
  {
   "cell_type": "markdown",
   "metadata": {},
   "source": [
    "- Note:\n",
    "    \n",
    "      For every Hypothesis testing the rejection rule state that:\n",
    "    \n",
    "     <b>if p-value is less than 0.05 we reject the null hypothesis otherwise we accept the null hypothesis</b>"
   ]
  },
  {
   "cell_type": "markdown",
   "metadata": {},
   "source": [
    "# PRACTICAL EXAMPLES"
   ]
  },
  {
   "cell_type": "code",
   "execution_count": 1,
   "metadata": {},
   "outputs": [],
   "source": [
    "import pandas as pd\n",
    "import numpy as np\n",
    "import seaborn as sns\n",
    "import matplotlib.pyplot as plt\n",
    "import warnings\n",
    "warnings.filterwarnings('ignore')\n",
    "from matplotlib import style\n",
    "style.use('ggplot')\n",
    "\n",
    "pd.set_option('max_columns', None)"
   ]
  },
  {
   "cell_type": "markdown",
   "metadata": {},
   "source": [
    "### Read in data"
   ]
  },
  {
   "cell_type": "code",
   "execution_count": 2,
   "metadata": {},
   "outputs": [
    {
     "data": {
      "text/html": [
       "<div>\n",
       "<style scoped>\n",
       "    .dataframe tbody tr th:only-of-type {\n",
       "        vertical-align: middle;\n",
       "    }\n",
       "\n",
       "    .dataframe tbody tr th {\n",
       "        vertical-align: top;\n",
       "    }\n",
       "\n",
       "    .dataframe thead th {\n",
       "        text-align: right;\n",
       "    }\n",
       "</style>\n",
       "<table border=\"1\" class=\"dataframe\">\n",
       "  <thead>\n",
       "    <tr style=\"text-align: right;\">\n",
       "      <th></th>\n",
       "      <th>Item_ID</th>\n",
       "      <th>Store_ID</th>\n",
       "      <th>Item_Store_ID</th>\n",
       "      <th>Item_Weight</th>\n",
       "      <th>Item_Sugar_Content</th>\n",
       "      <th>Item_Visibility</th>\n",
       "      <th>Item_Type</th>\n",
       "      <th>Item_Price</th>\n",
       "      <th>Store_Start_Year</th>\n",
       "      <th>Store_Size</th>\n",
       "      <th>Store_Location_Type</th>\n",
       "      <th>Store_Type</th>\n",
       "      <th>Item_Store_Returns</th>\n",
       "    </tr>\n",
       "  </thead>\n",
       "  <tbody>\n",
       "    <tr>\n",
       "      <th>0</th>\n",
       "      <td>DRA12</td>\n",
       "      <td>BABATUNJI010</td>\n",
       "      <td>DRA12_BABATUNJI010</td>\n",
       "      <td>11.6</td>\n",
       "      <td>Low Sugar</td>\n",
       "      <td>0.068535</td>\n",
       "      <td>Soft Drinks</td>\n",
       "      <td>357.54</td>\n",
       "      <td>2005</td>\n",
       "      <td>NaN</td>\n",
       "      <td>Cluster 3</td>\n",
       "      <td>Grocery Store</td>\n",
       "      <td>709.08</td>\n",
       "    </tr>\n",
       "    <tr>\n",
       "      <th>1</th>\n",
       "      <td>DRA12</td>\n",
       "      <td>BABATUNJI013</td>\n",
       "      <td>DRA12_BABATUNJI013</td>\n",
       "      <td>11.6</td>\n",
       "      <td>Low Sugar</td>\n",
       "      <td>0.040912</td>\n",
       "      <td>Soft Drinks</td>\n",
       "      <td>355.79</td>\n",
       "      <td>1994</td>\n",
       "      <td>High</td>\n",
       "      <td>Cluster 3</td>\n",
       "      <td>Supermarket Type1</td>\n",
       "      <td>6381.69</td>\n",
       "    </tr>\n",
       "    <tr>\n",
       "      <th>2</th>\n",
       "      <td>DRA12</td>\n",
       "      <td>BABATUNJI017</td>\n",
       "      <td>DRA12_BABATUNJI017</td>\n",
       "      <td>11.6</td>\n",
       "      <td>Low Sugar</td>\n",
       "      <td>0.041178</td>\n",
       "      <td>Soft Drinks</td>\n",
       "      <td>350.79</td>\n",
       "      <td>2014</td>\n",
       "      <td>NaN</td>\n",
       "      <td>Cluster 2</td>\n",
       "      <td>Supermarket Type1</td>\n",
       "      <td>6381.69</td>\n",
       "    </tr>\n",
       "  </tbody>\n",
       "</table>\n",
       "</div>"
      ],
      "text/plain": [
       "  Item_ID      Store_ID       Item_Store_ID  Item_Weight Item_Sugar_Content  \\\n",
       "0   DRA12  BABATUNJI010  DRA12_BABATUNJI010         11.6          Low Sugar   \n",
       "1   DRA12  BABATUNJI013  DRA12_BABATUNJI013         11.6          Low Sugar   \n",
       "2   DRA12  BABATUNJI017  DRA12_BABATUNJI017         11.6          Low Sugar   \n",
       "\n",
       "   Item_Visibility    Item_Type  Item_Price  Store_Start_Year Store_Size  \\\n",
       "0         0.068535  Soft Drinks      357.54              2005        NaN   \n",
       "1         0.040912  Soft Drinks      355.79              1994       High   \n",
       "2         0.041178  Soft Drinks      350.79              2014        NaN   \n",
       "\n",
       "  Store_Location_Type         Store_Type  Item_Store_Returns  \n",
       "0           Cluster 3      Grocery Store              709.08  \n",
       "1           Cluster 3  Supermarket Type1             6381.69  \n",
       "2           Cluster 2  Supermarket Type1             6381.69  "
      ]
     },
     "execution_count": 2,
     "metadata": {},
     "output_type": "execute_result"
    }
   ],
   "source": [
    "train = pd.read_csv('train.csv')\n",
    "train.head(3)"
   ]
  },
  {
   "cell_type": "markdown",
   "metadata": {},
   "source": [
    "### Normality Test"
   ]
  },
  {
   "cell_type": "markdown",
   "metadata": {},
   "source": [
    " Hypothesis\n",
    "    \n",
    "    - Ho: Item Store returns from the 10 stores are normally distributed\n",
    "    - H1: Item Store returns from the 10 stores are not normally distributed"
   ]
  },
  {
   "cell_type": "code",
   "execution_count": 3,
   "metadata": {},
   "outputs": [
    {
     "name": "stdout",
     "output_type": "stream",
     "text": [
      "The data is not normally distributed\n"
     ]
    }
   ],
   "source": [
    "import scipy.stats as stats\n",
    "\n",
    "normal_statistics, pvalue1 = stats.shapiro(train['Item_Store_Returns'])\n",
    "\n",
    "if pvalue1 > 0.05:\n",
    "    print(\"The data is Normally Distributed having {0:2.3f} > 0.05\".format(pvalue1))\n",
    "else:\n",
    "    print(\"The data is not normally distributed\")"
   ]
  },
  {
   "cell_type": "code",
   "execution_count": 4,
   "metadata": {},
   "outputs": [
    {
     "data": {
      "text/plain": [
       "<matplotlib.axes._subplots.AxesSubplot at 0xb25f0f0>"
      ]
     },
     "execution_count": 4,
     "metadata": {},
     "output_type": "execute_result"
    },
    {
     "data": {
      "image/png": "[encoded data removed]",
      "text/plain": [
       "<Figure size 432x288 with 1 Axes>"
      ]
     },
     "metadata": {},
     "output_type": "display_data"
    }
   ],
   "source": [
    "train['Item_Store_Returns'].plot(kind = 'hist')"
   ]
  },
  {
   "cell_type": "markdown",
   "metadata": {},
   "source": [
    "### Correlation Test"
   ]
  },
  {
   "cell_type": "markdown",
   "metadata": {},
   "source": [
    "Tests whether two samples have a linear relationship.\n",
    "\n",
    "Assumptions\n",
    "\n",
    "    - Observations in each sample are independent and identically distributed (iid).\n",
    "    - Observations in each sample are normally distributed.\n",
    "    - Observations in each sample have the same variance.\n",
    "    \n",
    "Hypothesis\n",
    "\n",
    "    - H0: the two samples are independent.\n",
    "    - H1: there is a dependency between the samples."
   ]
  },
  {
   "cell_type": "markdown",
   "metadata": {},
   "source": [
    "- Assumption Test\n",
    "  \n",
    "      - Normality test \n",
    "      - equality of variance test"
   ]
  },
  {
   "cell_type": "code",
   "execution_count": 5,
   "metadata": {},
   "outputs": [],
   "source": [
    "sample_1 = train['Item_Price']\n",
    "sample_2 = train['Item_Store_Returns']"
   ]
  },
  {
   "cell_type": "code",
   "execution_count": 6,
   "metadata": {},
   "outputs": [
    {
     "name": "stdout",
     "output_type": "stream",
     "text": [
      "========================================\n",
      "Normality Test Result\n",
      "t-statistic is 9.809360118440495, p-value is 0.007411814045175699\n",
      "Data is not normally Distributed since 0.007 < 0.05\n",
      "========================================\n",
      "Normality Test Result\n",
      "t-statistic is 777.9760519332917, p-value is 1.160504412943707e-169\n",
      "Data is not normally Distributed since 0.000 < 0.05\n"
     ]
    }
   ],
   "source": [
    "for i, data in enumerate((sample_1, sample_2)):\n",
    "    #test for normality\n",
    "    print('=' * 40)\n",
    "    print(\"Normality Test Result\")\n",
    "    n_stats, pvalue = stats.normaltest(data)\n",
    "    print(\"t-statistic is {}, p-value is {}\".format(n_stats, pvalue))\n",
    "    if pvalue < 0.05:\n",
    "        print(\"Data is not normally Distributed since {0:2.3f} < 0.05\".format(pvalue))\n",
    "    else:\n",
    "        print(\"Data is normally distributed since {0:2.3f} > 0.05\".format(pvalue))"
   ]
  },
  {
   "cell_type": "code",
   "execution_count": 7,
   "metadata": {},
   "outputs": [
    {
     "name": "stdout",
     "output_type": "stream",
     "text": [
      "t-statistic is 6587.000162873451, p-value is 0.0\n",
      "Equal variance not assumed since 0.000 < 0.05\n"
     ]
    }
   ],
   "source": [
    "W, pvalue = stats.levene(sample_1, sample_2)\n",
    "print(\"t-statistic is {}, p-value is {}\".format(W, pvalue))\n",
    "if pvalue < 0.05:\n",
    "    print(\"Equal variance not assumed since {0:2.3f} < 0.05\".format(pvalue))\n",
    "else:\n",
    "    print(\"Equal Variance assumed since {0:2.3f} > 0.05\".format(pvalue))"
   ]
  },
  {
   "cell_type": "markdown",
   "metadata": {},
   "source": [
    "Non parametric Test is applicable since the sampled data has violated all assumptions"
   ]
  },
  {
   "cell_type": "code",
   "execution_count": 8,
   "metadata": {},
   "outputs": [
    {
     "name": "stdout",
     "output_type": "stream",
     "text": [
      "stat=0.507, p=0.000\n",
      "There is correlation Between the two Samples\n"
     ]
    }
   ],
   "source": [
    "from scipy.stats import spearmanr\n",
    "stat, p = spearmanr(sample_1, sample_2)\n",
    "print('stat=%.3f, p=%.3f' % (stat, p))\n",
    "if p > 0.05:\n",
    "    print('There is no correlation between the two samples')\n",
    "else:\n",
    "    print('There is correlation Between the two Samples')"
   ]
  },
  {
   "cell_type": "markdown",
   "metadata": {},
   "source": [
    "### Independent Sample t-test"
   ]
  },
  {
   "cell_type": "markdown",
   "metadata": {},
   "source": [
    "It is used to Tests whether the means of two independent samples are significantly different.\n",
    "\n",
    "Assumptions\n",
    "\n",
    "    - Observations in each sample are independent and identically distributed (iid).\n",
    "    - Observations in each sample are normally distributed.\n",
    "    - Observations in each sample have the same variance.\n",
    "\n",
    "Hypothesis:\n",
    "\n",
    "    - H0: the means of the samples are equal.\n",
    "    - H1: the means of the samples are unequal.\n"
   ]
  },
  {
   "cell_type": "code",
   "execution_count": 9,
   "metadata": {},
   "outputs": [
    {
     "data": {
      "text/plain": [
       "array(['BABATUNJI010', 'BABATUNJI013', 'BABATUNJI017', 'BABATUNJI018',\n",
       "       'BABATUNJI035', 'BABATUNJI045', 'BABATUNJI019', 'BABATUNJI027',\n",
       "       'BABATUNJI049', 'BABATUNJI046'], dtype=object)"
      ]
     },
     "execution_count": 9,
     "metadata": {},
     "output_type": "execute_result"
    }
   ],
   "source": [
    "train['Store_ID'].unique()"
   ]
  },
  {
   "cell_type": "code",
   "execution_count": 10,
   "metadata": {},
   "outputs": [],
   "source": [
    "babatunji_010 = train[train['Store_ID'] == 'BABATUNJI010']\n",
    "babatunji_013 = train[train['Store_ID'] == 'BABATUNJI013']"
   ]
  },
  {
   "cell_type": "code",
   "execution_count": 11,
   "metadata": {},
   "outputs": [],
   "source": [
    "import random\n",
    "random.seed(200)\n",
    "babatunji_010_returns = babatunji_010['Item_Store_Returns'].sample(100)\n",
    "babatunji_013_returns = babatunji_013['Item_Store_Returns'].sample(100)"
   ]
  },
  {
   "cell_type": "markdown",
   "metadata": {},
   "source": [
    "- Assumption Test\n",
    "  \n",
    "      - Normality test \n",
    "      - equality of variance test"
   ]
  },
  {
   "cell_type": "code",
   "execution_count": 12,
   "metadata": {},
   "outputs": [
    {
     "name": "stdout",
     "output_type": "stream",
     "text": [
      "========================================\n",
      "Normality Test Result\n",
      "t-statistic is 34.28928381893652, p-value is 3.582421020229839e-08\n",
      "Data is not normally Distributed since 0.000 < 0.05\n",
      "========================================\n",
      "Normality Test Result\n",
      "t-statistic is 5.727163928546591, p-value is 0.05706399256645038\n",
      "Data is normally distributed since 0.057 > 0.05\n"
     ]
    }
   ],
   "source": [
    "for i, data in enumerate((babatunji_010_returns, babatunji_013_returns)):\n",
    "    #test for normality\n",
    "    print('=' * 40)\n",
    "    print(\"Normality Test Result\")\n",
    "    n_stats, pvalue = stats.normaltest(data)\n",
    "    print(\"t-statistic is {}, p-value is {}\".format(n_stats, pvalue))\n",
    "    if pvalue < 0.05:\n",
    "        print(\"Data is not normally Distributed since {0:2.3f} < 0.05\".format(pvalue))\n",
    "    else:\n",
    "        print(\"Data is normally distributed since {0:2.3f} > 0.05\".format(pvalue))"
   ]
  },
  {
   "cell_type": "code",
   "execution_count": 13,
   "metadata": {},
   "outputs": [
    {
     "name": "stdout",
     "output_type": "stream",
     "text": [
      "t-statistic is 97.06528227247523, p-value is 6.888486752736204e-19\n",
      "Equal variance not assumed since 0.000 < 0.05\n"
     ]
    }
   ],
   "source": [
    "W, pvalue = stats.levene(babatunji_010_returns, babatunji_013_returns)\n",
    "print(\"t-statistic is {}, p-value is {}\".format(W, pvalue))\n",
    "if pvalue < 0.05:\n",
    "    print(\"Equal variance not assumed since {0:2.3f} < 0.05\".format(pvalue))\n",
    "else:\n",
    "    print(\"Equal Variance assumed since {0:2.3f} > 0.05\".format(pvalue))"
   ]
  },
  {
   "cell_type": "markdown",
   "metadata": {},
   "source": [
    "We have to switch to a non parametric test since the assumptions are voilated"
   ]
  },
  {
   "cell_type": "code",
   "execution_count": 14,
   "metadata": {},
   "outputs": [
    {
     "name": "stdout",
     "output_type": "stream",
     "text": [
      "stat=502.500, p=0.000\n",
      "There is statistical significant difference in the mean Item store return across the two groups\n"
     ]
    }
   ],
   "source": [
    "from scipy.stats import mannwhitneyu\n",
    "stat, p = mannwhitneyu(babatunji_010_returns, babatunji_013_returns)\n",
    "print('stat=%.3f, p=%.3f' % (stat, p))\n",
    "if p > 0.05:\n",
    "    print('There is no statistical significant difference in the mean Item store return across the two groups')\n",
    "else:\n",
    "    print('There is statistical significant difference in the mean Item store return across the two groups')"
   ]
  },
  {
   "cell_type": "markdown",
   "metadata": {},
   "source": [
    "### One Way ANOVA Test"
   ]
  },
  {
   "cell_type": "markdown",
   "metadata": {},
   "source": [
    "It is used to Test whether the means of two or more paired samples are significantly different.\n",
    "\n",
    "- Assumptions\n",
    "\n",
    "      - Observations in each sample are independent and identically distributed (iid).\n",
    "      - Observations in each sample are normally distributed.\n",
    "      - Observations in each sample have the same variance.\n",
    "      - Residuals should be normally distributed.\n",
    "\n",
    "- Hypothesis\n",
    "\n",
    "      - H0: the means of the samples are equal.\n",
    "      - H1: one or more of the means of the samples are unequal."
   ]
  },
  {
   "cell_type": "code",
   "execution_count": 15,
   "metadata": {},
   "outputs": [],
   "source": [
    "babatunji_010 = train[train['Store_ID'] == 'BABATUNJI010']\n",
    "babatunji_013 = train[train['Store_ID'] == 'BABATUNJI013']\n",
    "babatunji_017 = train[train['Store_ID'] == 'BABATUNJI017']"
   ]
  },
  {
   "cell_type": "code",
   "execution_count": 16,
   "metadata": {},
   "outputs": [
    {
     "data": {
      "text/html": [
       "<div>\n",
       "<style scoped>\n",
       "    .dataframe tbody tr th:only-of-type {\n",
       "        vertical-align: middle;\n",
       "    }\n",
       "\n",
       "    .dataframe tbody tr th {\n",
       "        vertical-align: top;\n",
       "    }\n",
       "\n",
       "    .dataframe thead th {\n",
       "        text-align: right;\n",
       "    }\n",
       "</style>\n",
       "<table border=\"1\" class=\"dataframe\">\n",
       "  <thead>\n",
       "    <tr style=\"text-align: right;\">\n",
       "      <th></th>\n",
       "      <th>Store_ID</th>\n",
       "      <th>Item_Store_Returns</th>\n",
       "    </tr>\n",
       "  </thead>\n",
       "  <tbody>\n",
       "    <tr>\n",
       "      <th>0</th>\n",
       "      <td>BABATUNJI010</td>\n",
       "      <td>103.20</td>\n",
       "    </tr>\n",
       "    <tr>\n",
       "      <th>1</th>\n",
       "      <td>BABATUNJI010</td>\n",
       "      <td>379.51</td>\n",
       "    </tr>\n",
       "    <tr>\n",
       "      <th>2</th>\n",
       "      <td>BABATUNJI010</td>\n",
       "      <td>446.09</td>\n",
       "    </tr>\n",
       "  </tbody>\n",
       "</table>\n",
       "</div>"
      ],
      "text/plain": [
       "       Store_ID  Item_Store_Returns\n",
       "0  BABATUNJI010              103.20\n",
       "1  BABATUNJI010              379.51\n",
       "2  BABATUNJI010              446.09"
      ]
     },
     "execution_count": 16,
     "metadata": {},
     "output_type": "execute_result"
    }
   ],
   "source": [
    "dat = pd.concat([babatunji_010[['Store_ID','Item_Store_Returns']].sample(100), babatunji_013[['Store_ID','Item_Store_Returns']].sample(100),\n",
    "                  babatunji_017[['Store_ID','Item_Store_Returns']].sample(100)],ignore_index = True)\n",
    "dat.head(3)"
   ]
  },
  {
   "cell_type": "code",
   "execution_count": 17,
   "metadata": {},
   "outputs": [],
   "source": [
    "babatunji_010_returns = babatunji_010.loc[:100, 'Item_Store_Returns']\n",
    "babatunji_013_returns = babatunji_013.loc[100:200, 'Item_Store_Returns']\n",
    "babatunji_017_returns = babatunji_017.loc[200:300, 'Item_Store_Returns']"
   ]
  },
  {
   "cell_type": "markdown",
   "metadata": {},
   "source": [
    "- Assumption Test\n",
    "  \n",
    "      - Normality test \n",
    "      - equality of variance test"
   ]
  },
  {
   "cell_type": "code",
   "execution_count": 18,
   "metadata": {},
   "outputs": [
    {
     "name": "stdout",
     "output_type": "stream",
     "text": [
      "========================================\n",
      "Normality Test Result\n",
      "t-statistic is 2.727543994639416, p-value is 0.25569447677735696\n",
      "Data is normally distributed since 0.256 > 0.05\n",
      "========================================\n",
      "Normality Test Result\n",
      "t-statistic is 1.7177184161965213, p-value is 0.42364509765198766\n",
      "Data is normally distributed since 0.424 > 0.05\n",
      "========================================\n",
      "Normality Test Result\n",
      "t-statistic is 1.8653338667964032, p-value is 0.39350286379578986\n",
      "Data is normally distributed since 0.394 > 0.05\n"
     ]
    }
   ],
   "source": [
    "for i, data in enumerate((babatunji_010_returns, babatunji_013_returns, babatunji_017_returns)):\n",
    "    #test for normality\n",
    "    print('=' * 40)\n",
    "    print(\"Normality Test Result\")\n",
    "    n_stats, pvalue = stats.normaltest(data)\n",
    "    print(\"t-statistic is {}, p-value is {}\".format(n_stats, pvalue))\n",
    "    if pvalue < 0.05:\n",
    "        print(\"Data is not normally Distributed since {0:2.3f} < 0.05\".format(pvalue))\n",
    "    else:\n",
    "        print(\"Data is normally distributed since {0:2.3f} > 0.05\".format(pvalue))"
   ]
  },
  {
   "cell_type": "code",
   "execution_count": 19,
   "metadata": {},
   "outputs": [
    {
     "name": "stdout",
     "output_type": "stream",
     "text": [
      "t-statistic is 5.852181346224611, p-value is 0.0066789243905719985\n",
      "Equal variance not assumed since 0.007 < 0.05\n"
     ]
    }
   ],
   "source": [
    "#test for equal variances acorss the three groups\n",
    "W, pvalue = stats.levene(babatunji_010_returns, babatunji_013_returns,babatunji_017_returns)\n",
    "print(\"t-statistic is {}, p-value is {}\".format(W, pvalue))\n",
    "if pvalue < 0.05:\n",
    "    print(\"Equal variance not assumed since {0:2.3f} < 0.05\".format(pvalue))\n",
    "else:\n",
    "    print(\"Equal Variance assumed since {0:2.3f} > 0.05\".format(pvalue))"
   ]
  },
  {
   "cell_type": "markdown",
   "metadata": {},
   "source": [
    "We Proceed to a non-parametric test"
   ]
  },
  {
   "cell_type": "code",
   "execution_count": 20,
   "metadata": {},
   "outputs": [
    {
     "name": "stdout",
     "output_type": "stream",
     "text": [
      "22.549721149721137 1.2687915221747107e-05\n",
      "One of the groups is different, hence we proceed to conduct a post hoc test\n"
     ]
    }
   ],
   "source": [
    "#Kruskal wallis test\n",
    "k,pvalue = stats.kruskal(babatunji_010_returns, babatunji_013_returns,babatunji_017_returns)\n",
    "print(k,pvalue)\n",
    "if pvalue < 0.05:\n",
    "    print('One of the groups is different, hence we proceed to conduct a post hoc test')\n",
    "else:\n",
    "    pprint('No difference in the mean values of the groups')"
   ]
  },
  {
   "cell_type": "code",
   "execution_count": 21,
   "metadata": {},
   "outputs": [],
   "source": [
    "#post hoc test\n",
    "import scikit_posthocs as sp\n",
    "m_comp = sp.posthoc_dunn(dat,'Item_Store_Returns', 'Store_ID',p_adjust = 'holm')"
   ]
  },
  {
   "cell_type": "code",
   "execution_count": 22,
   "metadata": {},
   "outputs": [
    {
     "data": {
      "text/html": [
       "<div>\n",
       "<style scoped>\n",
       "    .dataframe tbody tr th:only-of-type {\n",
       "        vertical-align: middle;\n",
       "    }\n",
       "\n",
       "    .dataframe tbody tr th {\n",
       "        vertical-align: top;\n",
       "    }\n",
       "\n",
       "    .dataframe thead th {\n",
       "        text-align: right;\n",
       "    }\n",
       "</style>\n",
       "<table border=\"1\" class=\"dataframe\">\n",
       "  <thead>\n",
       "    <tr style=\"text-align: right;\">\n",
       "      <th></th>\n",
       "      <th>BABATUNJI010</th>\n",
       "      <th>BABATUNJI013</th>\n",
       "      <th>BABATUNJI017</th>\n",
       "    </tr>\n",
       "  </thead>\n",
       "  <tbody>\n",
       "    <tr>\n",
       "      <th>BABATUNJI010</th>\n",
       "      <td>1.000000e+00</td>\n",
       "      <td>8.710608e-20</td>\n",
       "      <td>2.826191e-47</td>\n",
       "    </tr>\n",
       "    <tr>\n",
       "      <th>BABATUNJI013</th>\n",
       "      <td>8.710608e-20</td>\n",
       "      <td>1.000000e+00</td>\n",
       "      <td>9.379144e-08</td>\n",
       "    </tr>\n",
       "    <tr>\n",
       "      <th>BABATUNJI017</th>\n",
       "      <td>2.826191e-47</td>\n",
       "      <td>9.379144e-08</td>\n",
       "      <td>1.000000e+00</td>\n",
       "    </tr>\n",
       "  </tbody>\n",
       "</table>\n",
       "</div>"
      ],
      "text/plain": [
       "              BABATUNJI010  BABATUNJI013  BABATUNJI017\n",
       "BABATUNJI010  1.000000e+00  8.710608e-20  2.826191e-47\n",
       "BABATUNJI013  8.710608e-20  1.000000e+00  9.379144e-08\n",
       "BABATUNJI017  2.826191e-47  9.379144e-08  1.000000e+00"
      ]
     },
     "execution_count": 22,
     "metadata": {},
     "output_type": "execute_result"
    }
   ],
   "source": [
    "m_comp"
   ]
  },
  {
   "cell_type": "markdown",
   "metadata": {},
   "source": [
    "From the above output we can see that the mean item store returns across the three groups are significantly different"
   ]
  },
  {
   "cell_type": "code",
   "execution_count": null,
   "metadata": {},
   "outputs": [],
   "source": []
  }
 ],
 "metadata": {
  "kernelspec": {
   "display_name": "Python 3",
   "language": "python",
   "name": "python3"
  },
  "language_info": {
   "codemirror_mode": {
    "name": "ipython",
    "version": 3
   },
   "file_extension": ".py",
   "mimetype": "text/x-python",
   "name": "python",
   "nbconvert_exporter": "python",
   "pygments_lexer": "ipython3",
   "version": "3.7.1"
  }
 },
 "nbformat": 4,
 "nbformat_minor": 4
}
